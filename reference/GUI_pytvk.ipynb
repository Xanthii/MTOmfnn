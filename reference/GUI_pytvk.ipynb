{
 "cells": [
  {
   "cell_type": "code",
   "execution_count": 12,
   "id": "8ad55845-3b0e-4c66-a61b-b090a09dc244",
   "metadata": {},
   "outputs": [
    {
     "data": {
      "image/png": "[encoded data removed]",
      "text/plain": [
       "<Figure size 640x480 with 1 Axes>"
      ]
     },
     "metadata": {},
     "output_type": "display_data"
    }
   ],
   "source": [
    "import matplotlib.pyplot as plt\n",
    "import numpy as np\n",
    "from matplotlib import colors\n",
    "from matplotlib import cm\n",
    "from matplotlib.image import NonUniformImage\n",
    "\n",
    "\n",
    "nelx, nely = 30,10\n",
    "title = 'title_x'\n",
    "xPhys = np.random.random(300)\n",
    "\n",
    "fig, ax = plt.subplots()\n",
    "im = ax.imshow(\n",
    "            -np.zeros((nely, nelx)), cmap='gray',\n",
    "            interpolation='none', norm=colors.Normalize(vmin=-1, vmax=0))\n",
    "\n",
    "plt.xlabel(title)\n",
    "\n",
    "im.set_array(\n",
    "    -xPhys.reshape((nelx, nely)).T)\n",
    "fig.canvas.draw()\n",
    "fig.canvas.flush_events()\n",
    "if title is not None:\n",
    "    plt.title(title)\n",
    "plt.pause(0.01)"
   ]
  },
  {
   "cell_type": "code",
   "execution_count": null,
   "id": "4d437c1d-0d48-435c-a004-6da61726a4cf",
   "metadata": {},
   "outputs": [],
   "source": []
  },
  {
   "cell_type": "code",
   "execution_count": null,
   "id": "3977c0d3-7afc-4eb8-ae96-128c8950873c",
   "metadata": {},
   "outputs": [],
   "source": []
  },
  {
   "cell_type": "code",
   "execution_count": null,
   "id": "d91e8637-0d7d-4b34-8284-ba0fb6d9df85",
   "metadata": {},
   "outputs": [],
   "source": []
  }
 ],
 "metadata": {
  "kernelspec": {
   "display_name": "Python 3 (ipykernel)",
   "language": "python",
   "name": "python3"
  },
  "language_info": {
   "codemirror_mode": {
    "name": "ipython",
    "version": 3
   },
   "file_extension": ".py",
   "mimetype": "text/x-python",
   "name": "python",
   "nbconvert_exporter": "python",
   "pygments_lexer": "ipython3",
   "version": "3.11.5"
  }
 },
 "nbformat": 4,
 "nbformat_minor": 5
}
