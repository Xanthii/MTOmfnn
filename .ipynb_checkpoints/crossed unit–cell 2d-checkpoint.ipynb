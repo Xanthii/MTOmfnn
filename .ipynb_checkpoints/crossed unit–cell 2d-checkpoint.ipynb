{
 "cells": [
  {
   "cell_type": "markdown",
   "metadata": {},
   "source": [
    "#### Relationship between density and diameter"
   ]
  },
  {
   "cell_type": "code",
   "execution_count": 60,
   "metadata": {},
   "outputs": [],
   "source": [
    "import numpy as np\n",
    "import matplotlib.pyplot as plt\n",
    "d = np.linspace(0, 1, 100)\n",
    "rho = d*(2*(np.sqrt(2)+1) - (np.sqrt(2)+1)**2*d)"
   ]
  },
  {
   "cell_type": "code",
   "execution_count": 61,
   "metadata": {},
   "outputs": [
    {
     "data": {
      "image/png": "[encoded data removed]",
      "text/plain": [
       "<Figure size 432x288 with 1 Axes>"
      ]
     },
     "metadata": {
      "needs_background": "light"
     },
     "output_type": "display_data"
    }
   ],
   "source": [
    "fig, ax = plt.subplots()\n",
    "\n",
    "ax.plot(d, rho, linewidth=2.0)\n",
    "\n",
    "plt.show()"
   ]
  },
  {
   "cell_type": "code",
   "execution_count": 62,
   "metadata": {},
   "outputs": [],
   "source": [
    "# quadratic root formula\n",
    "def getLeftRoot(a, b, c):\n",
    "    delta = np.power(b,2)-4*a*c\n",
    "    if delta < 0: \n",
    "        raise ValueError('No Left Real Root Exits')\n",
    "    else:\n",
    "        res = np.min(((-b+np.sqrt(delta)) / (2*a),(-b-np.sqrt(delta)) / (2*a)))\n",
    "        return(res)"
   ]
  },
  {
   "cell_type": "code",
   "execution_count": 63,
   "metadata": {},
   "outputs": [
    {
     "data": {
      "text/plain": [
       "-0.0"
      ]
     },
     "execution_count": 63,
     "metadata": {},
     "output_type": "execute_result"
    }
   ],
   "source": [
    "#  check max d\n",
    "rho_max = 0\n",
    "d_max = getLeftRoot(-(np.sqrt(2)+1)**2, 2*(np.sqrt(2)+1), -1*rho_max)\n",
    "d_max"
   ]
  },
  {
   "cell_type": "code",
   "execution_count": 64,
   "metadata": {},
   "outputs": [
    {
     "data": {
      "image/png": "[encoded data removed]",
      "text/plain": [
       "<Figure size 432x288 with 1 Axes>"
      ]
     },
     "metadata": {
      "needs_background": "light"
     },
     "output_type": "display_data"
    }
   ],
   "source": [
    "rho = np.linspace(0, 1, 100)\n",
    "d = [getLeftRoot(-(np.sqrt(2)+1)**2, 2*(np.sqrt(2)+1), -1*i) for i in rho]\n",
    "fig, ax = plt.subplots()\n",
    "\n",
    "ax.plot(rho, d, linewidth=2.0)\n",
    "\n",
    "plt.show()"
   ]
  },
  {
   "cell_type": "markdown",
   "metadata": {},
   "source": [
    "#### the calculation of effective properties matrix CH"
   ]
  },
  {
   "cell_type": "markdown",
   "metadata": {},
   "source": [
    "##### voxel method (low)"
   ]
  },
  {
   "cell_type": "code",
   "execution_count": 65,
   "metadata": {},
   "outputs": [],
   "source": [
    "from numpy import linalg as LA\n",
    "# 149 lines with 3d\n",
    "def generate_voxel(n, rho):\n",
    "    d = getLeftRoot(-(np.sqrt(2)+1)**2, 2*(np.sqrt(2)+1), -1*rho)\n",
    "    x = np.zeros((n,n))\n",
    "    dx = 1./n\n",
    "    # coors of vertex\n",
    "    node = np.array([[0,0],[1,0],[1,1],[0,1]])\n",
    "    # truss node\n",
    "    strut = [[0,1],\n",
    "            [1,2],\n",
    "            [2,3],\n",
    "            [3,0],\n",
    "            [0,2],\n",
    "            [1,3]]\n",
    "    for i in range(n):\n",
    "        for j in range(n):\n",
    "            center = [dx/2+ i*dx, dx/2+j*dx]\n",
    "            for k in range(len(strut)):\n",
    "                start_n = node[strut[k][0]]\n",
    "                end_n = node[strut[k][1]]\n",
    "\n",
    "                distance = LA.norm(np.cross(end_n-start_n, center-start_n))/LA.norm(end_n-start_n)\n",
    "                if distance <= d:\n",
    "                    x[i,j] = 1\n",
    "                    continue\n",
    "    return x\n"
   ]
  },
  {
   "cell_type": "markdown",
   "metadata": {},
   "source": [
    "##### voxel method with geoProjection (high)"
   ]
  },
  {
   "cell_type": "code",
   "execution_count": 66,
   "metadata": {},
   "outputs": [],
   "source": [
    "def generate_voxel_geoProjection(n, rho):\n",
    "    d = getLeftRoot(-(np.sqrt(2)+1)**2, 2*(np.sqrt(2)+1), -1*rho)\n",
    "    x = np.zeros((n,n))\n",
    "    dx = 1./n\n",
    "    r = np.sqrt(2)/2 * dx\n",
    "    p = 10\n",
    "    rho_min = 1e-4\n",
    "\n",
    "    # coors of vertex\n",
    "    node = np.array([[0,0],[1,0],[1,1],[0,1]])\n",
    "    # truss node\n",
    "    strut = [[0,1],\n",
    "            [1,2],\n",
    "            [2,3],\n",
    "            [3,0],\n",
    "            [0,2],\n",
    "            [1,3]]\n",
    "\n",
    "    rho_strut = np.zeros((len(strut),n,n))\n",
    "\n",
    "    for i in range(n):\n",
    "        for j in range(n):\n",
    "            center = [dx/2+ i*dx, dx/2+j*dx]\n",
    "            for k in range(len(strut)):\n",
    "                start_n = node[strut[k][0]]\n",
    "                end_n = node[strut[k][1]]\n",
    "\n",
    "                distance = LA.norm(np.cross(end_n-start_n, center-start_n))/LA.norm(end_n-start_n) # dq\n",
    "                phi_q = distance - d/2\n",
    "                if phi_q > r:\n",
    "                    rho_strut[k,i,j] = 0\n",
    "                elif phi_q < -1 *r:\n",
    "                    rho_strut[k,i,j] = 1\n",
    "                else:\n",
    "                    rho_strut[k,i,j] = 1/(np.pi * np.power(r,2)) * \\\n",
    "                            (np.power(r,2)*np.arccos(phi_q/r) - phi_q * np.sqrt(np.power(r,2)-np.power(phi_q,2)))\n",
    "                \n",
    "                rho_strut[k,i,j] = rho_min + rho_strut[k,i,j] * (1 - rho_min)\n",
    "\n",
    "            x[i,j] = np.min((LA.norm(rho_strut[:,i,j], np.inf),1))\n",
    "        \n",
    "    return x"
   ]
  },
  {
   "cell_type": "code",
   "execution_count": 67,
   "metadata": {},
   "outputs": [],
   "source": [
    "from scipy import io\n",
    "\n",
    "def saveMat(filename, n, rhoList):\n",
    "    res = np.zeros((len(rhoList), n, n))\n",
    "    for i in range(len(rhoList)):\n",
    "        res[i] = generate_voxel_geoProjection(n, rhoList[i])\n",
    "    io.savemat(filename, {'x_list':res})\n"
   ]
  },
  {
   "cell_type": "code",
   "execution_count": 68,
   "metadata": {},
   "outputs": [],
   "source": [
    "rho_list = np.linspace(0.1,1,100)\n",
    "saveMat('20x20_100.mat',20, rho_list)\n"
   ]
  },
  {
   "cell_type": "code",
   "execution_count": 72,
   "metadata": {},
   "outputs": [],
   "source": [
    "rho_list = np.linspace(0.1,1,100)\n",
    "saveMat('80x80_100.mat',80, rho_list)"
   ]
  },
  {
   "cell_type": "code",
   "execution_count": 74,
   "metadata": {},
   "outputs": [],
   "source": [
    "rho_list = np.linspace(0.1,1,100)\n",
    "saveMat('10x10_100.mat',10, rho_list)"
   ]
  },
  {
   "cell_type": "code",
   "execution_count": 79,
   "metadata": {},
   "outputs": [
    {
     "data": {
      "text/plain": [
       "array([[ 2.38306271e+00,  7.61704414e-01, -2.49095449e-16],\n",
       "       [ 7.61704414e-01,  2.38306271e+00, -7.21536546e-17],\n",
       "       [-1.69894480e-16, -4.14707331e-17,  9.72211685e-01]])"
      ]
     },
     "execution_count": 79,
     "metadata": {},
     "output_type": "execute_result"
    }
   ],
   "source": [
    "y=io.loadmat('10x10_100_CH.mat')\n",
    "y['CH'][33]\n"
   ]
  },
  {
   "cell_type": "code",
   "execution_count": 80,
   "metadata": {},
   "outputs": [
    {
     "data": {
      "text/plain": [
       "array([[ 1.85388123e+00,  7.08039157e-01, -1.56125113e-16],\n",
       "       [ 7.08039157e-01,  1.85388123e+00,  5.08219768e-18],\n",
       "       [-9.73342500e-17, -2.83510398e-17,  7.24912664e-01]])"
      ]
     },
     "execution_count": 80,
     "metadata": {},
     "output_type": "execute_result"
    }
   ],
   "source": [
    "y=io.loadmat('20x20_100_CH.mat')\n",
    "y['CH'][33]\n"
   ]
  },
  {
   "cell_type": "code",
   "execution_count": 81,
   "metadata": {},
   "outputs": [
    {
     "data": {
      "text/plain": [
       "array([[ 1.69348876e+00,  6.84887876e-01, -8.98977243e-17],\n",
       "       [ 6.84887876e-01,  1.69348876e+00, -5.71236091e-17],\n",
       "       [-1.96763636e-17,  1.48070177e-17,  6.71740559e-01]])"
      ]
     },
     "execution_count": 81,
     "metadata": {},
     "output_type": "execute_result"
    }
   ],
   "source": [
    "y=io.loadmat('80x80_100_CH.mat')\n",
    "y['CH'][33]"
   ]
  }
 ],
 "metadata": {
  "kernelspec": {
   "display_name": "Python 3.9.5 64-bit",
   "language": "python",
   "name": "python3"
  },
  "language_info": {
   "codemirror_mode": {
    "name": "ipython",
    "version": 3
   },
   "file_extension": ".py",
   "mimetype": "text/x-python",
   "name": "python",
   "nbconvert_exporter": "python",
   "pygments_lexer": "ipython3",
   "version": "3.9.5"
  },
  "orig_nbformat": 4,
  "vscode": {
   "interpreter": {
    "hash": "c6a892c11cf255743e3b4b0e2e867f98af2555f2c81ef2504e9333fe48f5d005"
   }
  }
 },
 "nbformat": 4,
 "nbformat_minor": 2
}
