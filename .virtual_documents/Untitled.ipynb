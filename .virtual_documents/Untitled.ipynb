import matplotlib.pyplot as plt
import numpy as np
from matplotlib import colors
from matplotlib import cm
from matplotlib.image import NonUniformImage


nelx, nely = 30,10
title = 'title_x'
xPhys = np.random.random(300)

fig, ax = plt.subplots()
im = ax.imshow(
            -np.zeros((nely, nelx)), cmap='gray',
            interpolation='none', norm=colors.Normalize(vmin=-1, vmax=0))

plt.xlabel(title)

im.set_array(
    -xPhys.reshape((nelx, nely)).T)
fig.canvas.draw()
fig.canvas.flush_events()
if title is not None:
    plt.title(title)
plt.pause(0.01)









