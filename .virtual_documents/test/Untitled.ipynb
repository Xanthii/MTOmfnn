import numpy as np
import matplotlib.pyplot as plt



x = np.linspace(-100,100,1000)


y = lambada
