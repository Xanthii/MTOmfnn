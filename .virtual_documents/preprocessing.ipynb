from scipy import io
y = dict()
y['low'] = io.loadmat('10x10_100_CH.mat')['CH']
y['mid'] = io.loadmat('20x20_100_CH.mat')['CH']
y['hi'] = io.loadmat('80x80_100_CH.mat')['CH']
y['hy'] = io.loadmat('200x200_100_CH.mat')['CH']


import matplotlib.pyplot as plt
import numpy as np
x = range(100)



# plot
fig, axes = plt.subplots(2,2,figsize=(15, 15))

axes[0,0].plot(x, y['low'][x,0,0],color='blue', linewidth=2.0,label='low')
axes[0,0].plot(x, y['mid'][x,0,0],color='green', linewidth=2.0,label='mid')
axes[0,0].plot(x, y['hi'][x,0,0],color='red', linewidth=2.0,label='hi')
axes[0,0].plot(x, y['hy'][x,0,0],color='black', linewidth=2.0,label='hy')
axes[0,0].legend()
axes[0,1].plot(x, y['low'][x,0,1],color='blue', linewidth=2.0,label='low')
axes[0,1].plot(x, y['mid'][x,0,1],color='green', linewidth=2.0,label='mid')
axes[0,1].plot(x, y['hi'][x,0,1],color='red', linewidth=2.0,label='hi')
axes[0,1].plot(x, y['hy'][x,0,1],color='black', linewidth=2.0,label='hy')
axes[0,1].legend()
axes[1,0].plot(x, y['low'][x,2,2],color='blue', linewidth=2.0,label='low')
axes[1,0].plot(x, y['mid'][x,2,2],color='green', linewidth=2.0,label='mid')
axes[1,0].plot(x, y['hi'][x,2,2],color='red', linewidth=2.0,label='hi')
axes[1,0].plot(x, y['hy'][x,2,2],color='black', linewidth=2.0,label='hy')
axes[1,0].legend()


plt.show()






