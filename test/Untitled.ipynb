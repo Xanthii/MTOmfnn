{
 "cells": [
  {
   "cell_type": "code",
   "execution_count": 1,
   "id": "5713cd6d-43dd-42e3-842e-48b3407b715d",
   "metadata": {},
   "outputs": [],
   "source": [
    "import numpy as np\n",
    "import matplotlib.pyplot as plt\n"
   ]
  },
  {
   "cell_type": "code",
   "execution_count": 2,
   "id": "3e07becd-0ff7-4045-b246-44dac380083e",
   "metadata": {},
   "outputs": [],
   "source": [
    "x = np.linspace(-100,100,1000)"
   ]
  },
  {
   "cell_type": "code",
   "execution_count": null,
   "id": "e4f90a35-79bd-4af5-9916-7eecd418a9ad",
   "metadata": {},
   "outputs": [],
   "source": [
    "y = lambada"
   ]
  }
 ],
 "metadata": {
  "kernelspec": {
   "display_name": "Python 3 (ipykernel)",
   "language": "python",
   "name": "python3"
  },
  "language_info": {
   "codemirror_mode": {
    "name": "ipython",
    "version": 3
   },
   "file_extension": ".py",
   "mimetype": "text/x-python",
   "name": "python",
   "nbconvert_exporter": "python",
   "pygments_lexer": "ipython3",
   "version": "3.11.5"
  }
 },
 "nbformat": 4,
 "nbformat_minor": 5
}
